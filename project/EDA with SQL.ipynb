{
 "cells": [
  {
   "cell_type": "markdown",
   "metadata": {},
   "source": [
    "<center>\n",
    "    <img src=\"https://gitlab.com/ibm/skills-network/courses/placeholder101/-/raw/master/labs/module%201/images/IDSNlogo.png\"  width=\"300\" alt=\"cognitiveclass.ai logo\"  />\n",
    "</center>\n",
    "\n",
    "<h1 align=center><font size = 5>Assignment: SQL Notebook for Peer Assignment</font></h1>\n",
    "\n",
    "Estimated time needed: **60** minutes.\n",
    "\n",
    "## Introduction\n",
    "\n",
    "Using this Python notebook you will:\n",
    "\n",
    "1.  Understand the Spacex DataSet\n",
    "2.  Load the dataset  into the corresponding table in a Db2 database\n",
    "3.  Execute SQL queries to answer assignment questions\n"
   ]
  },
  {
   "cell_type": "markdown",
   "metadata": {},
   "source": [
    "## Overview of the DataSet\n",
    "\n",
    "SpaceX has gained worldwide attention for a series of historic milestones.\n",
    "\n",
    "It is the only private company ever to return a spacecraft from low-earth orbit, which it first accomplished in December 2010.\n",
    "SpaceX advertises Falcon 9 rocket launches on its website with a cost of 62 million dollars wheras other providers cost upward of 165 million dollars each, much of the savings is because Space X can reuse the first stage.\n",
    "\n",
    "Therefore if we can determine if the first stage will land, we can determine the cost of a launch.\n",
    "\n",
    "This information can be used if an alternate company wants to bid against SpaceX for a rocket launch.\n",
    "\n",
    "This dataset includes a record for each payload carried during a SpaceX mission into outer space.\n"
   ]
  },
  {
   "cell_type": "markdown",
   "metadata": {},
   "source": [
    "### Download the datasets\n",
    "\n",
    "This assignment requires you to load the spacex dataset.\n",
    "\n",
    "In many cases the dataset to be analyzed is available as a .CSV (comma separated values) file, perhaps on the internet. Click on the link below to download and save the dataset (.CSV file):\n",
    "\n",
    "<a href=\"https://cf-courses-data.s3.us.cloud-object-storage.appdomain.cloud/IBM-DS0321EN-SkillsNetwork/labs/module_2/data/Spacex.csv?utm_medium=Exinfluencer&utm_source=Exinfluencer&utm_content=000026UJ&utm_term=10006555&utm_id=NA-SkillsNetwork-Channel-SkillsNetworkCoursesIBMDS0321ENSkillsNetwork26802033-2021-01-01\" target=\"_blank\">Spacex DataSet</a>\n"
   ]
  },
  {
   "cell_type": "markdown",
   "metadata": {},
   "source": [
    "### Store the dataset in database table\n",
    "\n",
    "**it is highly recommended to manually load the table using the database console LOAD tool in DB2**.\n",
    "\n",
    "<img src = \"https://cf-courses-data.s3.us.cloud-object-storage.appdomain.cloud/IBM-DS0321EN-SkillsNetwork/labs/module_2/images/spacexload.png\">\n",
    "\n",
    "Now open the Db2 console, open the LOAD tool, Select / Drag the .CSV file for the  dataset, Next create a New Table, and then follow the steps on-screen instructions to load the data. Name the new table as follows:\n",
    "\n",
    "**SPACEXDATASET**\n",
    "\n",
    "**Follow these steps while using old DB2 UI which is having Open Console Screen**\n",
    "\n",
    "**Note:While loading Spacex dataset, ensure that detect datatypes is disabled. Later click on the pencil icon(edit option).**\n",
    "\n",
    "1.  Change the Date Format by manually typing DD-MM-YYYY and timestamp format as DD-MM-YYYY HH\\:MM:SS\n",
    "\n",
    "2.  Change the PAYLOAD_MASS\\_\\_KG\\_  datatype  to INTEGER.\n",
    "\n",
    "<img src = \"https://cf-courses-data.s3.us.cloud-object-storage.appdomain.cloud/IBM-DS0321EN-SkillsNetwork/labs/module_2/images/spacexload2.png\">\n"
   ]
  },
  {
   "cell_type": "markdown",
   "metadata": {},
   "source": [
    "**Changes to be considered when having DB2 instance with the new UI having Go to UI screen**\n",
    "\n",
    "*   Refer to this insruction in this <a href=\"https://cf-courses-data.s3.us.cloud-object-storage.appdomain.cloud/IBMDeveloperSkillsNetwork-DB0201EN-SkillsNetwork/labs/Labs_Coursera_V5/labs/Lab%20-%20Sign%20up%20for%20IBM%20Cloud%20-%20Create%20Db2%20service%20instance%20-%20Get%20started%20with%20the%20Db2%20console/instructional-labs.md.html?utm_medium=Exinfluencer&utm_source=Exinfluencer&utm_content=000026UJ&utm_term=10006555&utm_id=NA-SkillsNetwork-Channel-SkillsNetworkCoursesIBMDS0321ENSkillsNetwork26802033-2021-01-01\">link</a> for viewing  the new  Go to UI screen.\n",
    "\n",
    "*   Later click on **Data link(below SQL)**  in the Go to UI screen  and click on **Load Data** tab.\n",
    "\n",
    "*   Later browse for the downloaded spacex file.\n",
    "\n",
    "<img src=\"https://cf-courses-data.s3.us.cloud-object-storage.appdomain.cloud/IBM-DS0321EN-SkillsNetwork/labs/module_2/images/browsefile.png\" width=\"800\"/>\n",
    "\n",
    "*   Once done select the schema andload the file.\n",
    "\n",
    " <img src=\"https://cf-courses-data.s3.us.cloud-object-storage.appdomain.cloud/IBM-DS0321EN-SkillsNetwork/labs/module_2/images/spacexload3.png\" width=\"800\"/>\n"
   ]
  },
  {
   "cell_type": "code",
   "execution_count": 1,
   "metadata": {},
   "outputs": [
    {
     "name": "stdout",
     "output_type": "stream",
     "text": [
      "Requirement already satisfied: sqlalchemy==1.3.9 in ./spacex-env/lib/python3.9/site-packages (1.3.9)\n",
      "\n",
      "\u001b[1m[\u001b[0m\u001b[34;49mnotice\u001b[0m\u001b[1;39;49m]\u001b[0m\u001b[39;49m A new release of pip is available: \u001b[0m\u001b[31;49m23.0.1\u001b[0m\u001b[39;49m -> \u001b[0m\u001b[32;49m25.0.1\u001b[0m\n",
      "\u001b[1m[\u001b[0m\u001b[34;49mnotice\u001b[0m\u001b[1;39;49m]\u001b[0m\u001b[39;49m To update, run: \u001b[0m\u001b[32;49mpip install --upgrade pip\u001b[0m\n",
      "Requirement already satisfied: ibm_db_sa in ./spacex-env/lib/python3.9/site-packages (0.4.1)\n",
      "Requirement already satisfied: sqlalchemy>=0.7.3 in ./spacex-env/lib/python3.9/site-packages (from ibm_db_sa) (1.3.9)\n",
      "Requirement already satisfied: ibm-db>=2.0.0 in ./spacex-env/lib/python3.9/site-packages (from ibm_db_sa) (3.2.6)\n",
      "\n",
      "\u001b[1m[\u001b[0m\u001b[34;49mnotice\u001b[0m\u001b[1;39;49m]\u001b[0m\u001b[39;49m A new release of pip is available: \u001b[0m\u001b[31;49m23.0.1\u001b[0m\u001b[39;49m -> \u001b[0m\u001b[32;49m25.0.1\u001b[0m\n",
      "\u001b[1m[\u001b[0m\u001b[34;49mnotice\u001b[0m\u001b[1;39;49m]\u001b[0m\u001b[39;49m To update, run: \u001b[0m\u001b[32;49mpip install --upgrade pip\u001b[0m\n",
      "Collecting ipython-sql\n",
      "  Using cached ipython_sql-0.5.0-py3-none-any.whl (20 kB)\n",
      "Collecting sqlparse\n",
      "  Using cached sqlparse-0.5.3-py3-none-any.whl (44 kB)\n",
      "Collecting ipython-genutils\n",
      "  Using cached ipython_genutils-0.2.0-py2.py3-none-any.whl (26 kB)\n",
      "Collecting prettytable\n",
      "  Using cached prettytable-3.16.0-py3-none-any.whl (33 kB)\n",
      "Requirement already satisfied: six in ./spacex-env/lib/python3.9/site-packages (from ipython-sql) (1.17.0)\n",
      "Collecting sqlalchemy>=2.0\n",
      "  Using cached sqlalchemy-2.0.40-cp39-cp39-macosx_10_9_x86_64.whl (2.1 MB)\n",
      "Requirement already satisfied: ipython in ./spacex-env/lib/python3.9/site-packages (from ipython-sql) (8.18.1)\n",
      "Collecting greenlet>=1\n",
      "  Using cached greenlet-3.2.0.tar.gz (183 kB)\n",
      "  Installing build dependencies ... \u001b[?25ldone\n",
      "\u001b[?25h  Getting requirements to build wheel ... \u001b[?25ldone\n",
      "\u001b[?25h  Preparing metadata (pyproject.toml) ... \u001b[?25ldone\n",
      "\u001b[?25hRequirement already satisfied: typing-extensions>=4.6.0 in ./spacex-env/lib/python3.9/site-packages (from sqlalchemy>=2.0->ipython-sql) (4.13.2)\n",
      "Requirement already satisfied: traitlets>=5 in ./spacex-env/lib/python3.9/site-packages (from ipython->ipython-sql) (5.14.3)\n",
      "Requirement already satisfied: pygments>=2.4.0 in ./spacex-env/lib/python3.9/site-packages (from ipython->ipython-sql) (2.19.1)\n",
      "Requirement already satisfied: pexpect>4.3 in ./spacex-env/lib/python3.9/site-packages (from ipython->ipython-sql) (4.9.0)\n",
      "Requirement already satisfied: stack-data in ./spacex-env/lib/python3.9/site-packages (from ipython->ipython-sql) (0.6.3)\n",
      "Requirement already satisfied: decorator in ./spacex-env/lib/python3.9/site-packages (from ipython->ipython-sql) (5.2.1)\n",
      "Requirement already satisfied: jedi>=0.16 in ./spacex-env/lib/python3.9/site-packages (from ipython->ipython-sql) (0.19.2)\n",
      "Requirement already satisfied: matplotlib-inline in ./spacex-env/lib/python3.9/site-packages (from ipython->ipython-sql) (0.1.7)\n",
      "Requirement already satisfied: prompt-toolkit<3.1.0,>=3.0.41 in ./spacex-env/lib/python3.9/site-packages (from ipython->ipython-sql) (3.0.51)\n",
      "Requirement already satisfied: exceptiongroup in ./spacex-env/lib/python3.9/site-packages (from ipython->ipython-sql) (1.2.2)\n",
      "Requirement already satisfied: wcwidth in ./spacex-env/lib/python3.9/site-packages (from prettytable->ipython-sql) (0.2.13)\n",
      "Requirement already satisfied: parso<0.9.0,>=0.8.4 in ./spacex-env/lib/python3.9/site-packages (from jedi>=0.16->ipython->ipython-sql) (0.8.4)\n",
      "Requirement already satisfied: ptyprocess>=0.5 in ./spacex-env/lib/python3.9/site-packages (from pexpect>4.3->ipython->ipython-sql) (0.7.0)\n",
      "Requirement already satisfied: asttokens>=2.1.0 in ./spacex-env/lib/python3.9/site-packages (from stack-data->ipython->ipython-sql) (3.0.0)\n",
      "Requirement already satisfied: pure-eval in ./spacex-env/lib/python3.9/site-packages (from stack-data->ipython->ipython-sql) (0.2.3)\n",
      "Requirement already satisfied: executing>=1.2.0 in ./spacex-env/lib/python3.9/site-packages (from stack-data->ipython->ipython-sql) (2.2.0)\n",
      "Building wheels for collected packages: greenlet\n",
      "  Building wheel for greenlet (pyproject.toml) ... \u001b[?25lerror\n",
      "  \u001b[1;31merror\u001b[0m: \u001b[1msubprocess-exited-with-error\u001b[0m\n",
      "  \n",
      "  \u001b[31m×\u001b[0m \u001b[32mBuilding wheel for greenlet \u001b[0m\u001b[1;32m(\u001b[0m\u001b[32mpyproject.toml\u001b[0m\u001b[1;32m)\u001b[0m did not run successfully.\n",
      "  \u001b[31m│\u001b[0m exit code: \u001b[1;36m1\u001b[0m\n",
      "  \u001b[31m╰─>\u001b[0m \u001b[31m[116 lines of output]\u001b[0m\n",
      "  \u001b[31m   \u001b[0m running bdist_wheel\n",
      "  \u001b[31m   \u001b[0m running build\n",
      "  \u001b[31m   \u001b[0m running build_py\n",
      "  \u001b[31m   \u001b[0m creating build/lib.macosx-10.9-x86_64-cpython-39/greenlet\n",
      "  \u001b[31m   \u001b[0m copying src/greenlet/__init__.py -> build/lib.macosx-10.9-x86_64-cpython-39/greenlet\n",
      "  \u001b[31m   \u001b[0m creating build/lib.macosx-10.9-x86_64-cpython-39/greenlet/platform\n",
      "  \u001b[31m   \u001b[0m copying src/greenlet/platform/__init__.py -> build/lib.macosx-10.9-x86_64-cpython-39/greenlet/platform\n",
      "  \u001b[31m   \u001b[0m creating build/lib.macosx-10.9-x86_64-cpython-39/greenlet/tests\n",
      "  \u001b[31m   \u001b[0m copying src/greenlet/tests/test_version.py -> build/lib.macosx-10.9-x86_64-cpython-39/greenlet/tests\n",
      "  \u001b[31m   \u001b[0m copying src/greenlet/tests/test_weakref.py -> build/lib.macosx-10.9-x86_64-cpython-39/greenlet/tests\n",
      "  \u001b[31m   \u001b[0m copying src/greenlet/tests/fail_slp_switch.py -> build/lib.macosx-10.9-x86_64-cpython-39/greenlet/tests\n",
      "  \u001b[31m   \u001b[0m copying src/greenlet/tests/test_gc.py -> build/lib.macosx-10.9-x86_64-cpython-39/greenlet/tests\n",
      "  \u001b[31m   \u001b[0m copying src/greenlet/tests/leakcheck.py -> build/lib.macosx-10.9-x86_64-cpython-39/greenlet/tests\n",
      "  \u001b[31m   \u001b[0m copying src/greenlet/tests/fail_switch_two_greenlets.py -> build/lib.macosx-10.9-x86_64-cpython-39/greenlet/tests\n",
      "  \u001b[31m   \u001b[0m copying src/greenlet/tests/test_generator.py -> build/lib.macosx-10.9-x86_64-cpython-39/greenlet/tests\n",
      "  \u001b[31m   \u001b[0m copying src/greenlet/tests/test_greenlet_trash.py -> build/lib.macosx-10.9-x86_64-cpython-39/greenlet/tests\n",
      "  \u001b[31m   \u001b[0m copying src/greenlet/tests/test_throw.py -> build/lib.macosx-10.9-x86_64-cpython-39/greenlet/tests\n",
      "  \u001b[31m   \u001b[0m copying src/greenlet/tests/test_tracing.py -> build/lib.macosx-10.9-x86_64-cpython-39/greenlet/tests\n",
      "  \u001b[31m   \u001b[0m copying src/greenlet/tests/fail_cpp_exception.py -> build/lib.macosx-10.9-x86_64-cpython-39/greenlet/tests\n",
      "  \u001b[31m   \u001b[0m copying src/greenlet/tests/fail_switch_three_greenlets.py -> build/lib.macosx-10.9-x86_64-cpython-39/greenlet/tests\n",
      "  \u001b[31m   \u001b[0m copying src/greenlet/tests/test_cpp.py -> build/lib.macosx-10.9-x86_64-cpython-39/greenlet/tests\n",
      "  \u001b[31m   \u001b[0m copying src/greenlet/tests/test_contextvars.py -> build/lib.macosx-10.9-x86_64-cpython-39/greenlet/tests\n",
      "  \u001b[31m   \u001b[0m copying src/greenlet/tests/test_greenlet.py -> build/lib.macosx-10.9-x86_64-cpython-39/greenlet/tests\n",
      "  \u001b[31m   \u001b[0m copying src/greenlet/tests/test_extension_interface.py -> build/lib.macosx-10.9-x86_64-cpython-39/greenlet/tests\n",
      "  \u001b[31m   \u001b[0m copying src/greenlet/tests/fail_clearing_run_switches.py -> build/lib.macosx-10.9-x86_64-cpython-39/greenlet/tests\n",
      "  \u001b[31m   \u001b[0m copying src/greenlet/tests/__init__.py -> build/lib.macosx-10.9-x86_64-cpython-39/greenlet/tests\n",
      "  \u001b[31m   \u001b[0m copying src/greenlet/tests/fail_switch_three_greenlets2.py -> build/lib.macosx-10.9-x86_64-cpython-39/greenlet/tests\n",
      "  \u001b[31m   \u001b[0m copying src/greenlet/tests/fail_initialstub_already_started.py -> build/lib.macosx-10.9-x86_64-cpython-39/greenlet/tests\n",
      "  \u001b[31m   \u001b[0m copying src/greenlet/tests/test_generator_nested.py -> build/lib.macosx-10.9-x86_64-cpython-39/greenlet/tests\n",
      "  \u001b[31m   \u001b[0m copying src/greenlet/tests/test_stack_saved.py -> build/lib.macosx-10.9-x86_64-cpython-39/greenlet/tests\n",
      "  \u001b[31m   \u001b[0m copying src/greenlet/tests/test_leaks.py -> build/lib.macosx-10.9-x86_64-cpython-39/greenlet/tests\n",
      "  \u001b[31m   \u001b[0m running egg_info\n",
      "  \u001b[31m   \u001b[0m writing src/greenlet.egg-info/PKG-INFO\n",
      "  \u001b[31m   \u001b[0m writing dependency_links to src/greenlet.egg-info/dependency_links.txt\n",
      "  \u001b[31m   \u001b[0m writing requirements to src/greenlet.egg-info/requires.txt\n",
      "  \u001b[31m   \u001b[0m writing top-level names to src/greenlet.egg-info/top_level.txt\n",
      "  \u001b[31m   \u001b[0m reading manifest file 'src/greenlet.egg-info/SOURCES.txt'\n",
      "  \u001b[31m   \u001b[0m reading manifest template 'MANIFEST.in'\n",
      "  \u001b[31m   \u001b[0m warning: no previously-included files found matching 'benchmarks/*.json'\n",
      "  \u001b[31m   \u001b[0m no previously-included directories found matching 'docs/_build'\n",
      "  \u001b[31m   \u001b[0m warning: no files found matching '*.py' under directory 'appveyor'\n",
      "  \u001b[31m   \u001b[0m warning: no previously-included files matching '*.pyc' found anywhere in distribution\n",
      "  \u001b[31m   \u001b[0m warning: no previously-included files matching '*.pyd' found anywhere in distribution\n",
      "  \u001b[31m   \u001b[0m warning: no previously-included files matching '*.so' found anywhere in distribution\n",
      "  \u001b[31m   \u001b[0m warning: no previously-included files matching '.coverage' found anywhere in distribution\n",
      "  \u001b[31m   \u001b[0m adding license file 'LICENSE'\n",
      "  \u001b[31m   \u001b[0m adding license file 'LICENSE.PSF'\n",
      "  \u001b[31m   \u001b[0m writing manifest file 'src/greenlet.egg-info/SOURCES.txt'\n",
      "  \u001b[31m   \u001b[0m copying src/greenlet/CObjects.cpp -> build/lib.macosx-10.9-x86_64-cpython-39/greenlet\n",
      "  \u001b[31m   \u001b[0m copying src/greenlet/PyGreenlet.cpp -> build/lib.macosx-10.9-x86_64-cpython-39/greenlet\n",
      "  \u001b[31m   \u001b[0m copying src/greenlet/PyGreenlet.hpp -> build/lib.macosx-10.9-x86_64-cpython-39/greenlet\n",
      "  \u001b[31m   \u001b[0m copying src/greenlet/PyGreenletUnswitchable.cpp -> build/lib.macosx-10.9-x86_64-cpython-39/greenlet\n",
      "  \u001b[31m   \u001b[0m copying src/greenlet/PyModule.cpp -> build/lib.macosx-10.9-x86_64-cpython-39/greenlet\n",
      "  \u001b[31m   \u001b[0m copying src/greenlet/TBrokenGreenlet.cpp -> build/lib.macosx-10.9-x86_64-cpython-39/greenlet\n",
      "  \u001b[31m   \u001b[0m copying src/greenlet/TExceptionState.cpp -> build/lib.macosx-10.9-x86_64-cpython-39/greenlet\n",
      "  \u001b[31m   \u001b[0m copying src/greenlet/TGreenlet.cpp -> build/lib.macosx-10.9-x86_64-cpython-39/greenlet\n",
      "  \u001b[31m   \u001b[0m copying src/greenlet/TGreenlet.hpp -> build/lib.macosx-10.9-x86_64-cpython-39/greenlet\n",
      "  \u001b[31m   \u001b[0m copying src/greenlet/TGreenletGlobals.cpp -> build/lib.macosx-10.9-x86_64-cpython-39/greenlet\n",
      "  \u001b[31m   \u001b[0m copying src/greenlet/TMainGreenlet.cpp -> build/lib.macosx-10.9-x86_64-cpython-39/greenlet\n",
      "  \u001b[31m   \u001b[0m copying src/greenlet/TPythonState.cpp -> build/lib.macosx-10.9-x86_64-cpython-39/greenlet\n",
      "  \u001b[31m   \u001b[0m copying src/greenlet/TStackState.cpp -> build/lib.macosx-10.9-x86_64-cpython-39/greenlet\n",
      "  \u001b[31m   \u001b[0m copying src/greenlet/TThreadState.hpp -> build/lib.macosx-10.9-x86_64-cpython-39/greenlet\n",
      "  \u001b[31m   \u001b[0m copying src/greenlet/TThreadStateCreator.hpp -> build/lib.macosx-10.9-x86_64-cpython-39/greenlet\n",
      "  \u001b[31m   \u001b[0m copying src/greenlet/TThreadStateDestroy.cpp -> build/lib.macosx-10.9-x86_64-cpython-39/greenlet\n",
      "  \u001b[31m   \u001b[0m copying src/greenlet/TUserGreenlet.cpp -> build/lib.macosx-10.9-x86_64-cpython-39/greenlet\n",
      "  \u001b[31m   \u001b[0m copying src/greenlet/greenlet.cpp -> build/lib.macosx-10.9-x86_64-cpython-39/greenlet\n",
      "  \u001b[31m   \u001b[0m copying src/greenlet/greenlet.h -> build/lib.macosx-10.9-x86_64-cpython-39/greenlet\n",
      "  \u001b[31m   \u001b[0m copying src/greenlet/greenlet_allocator.hpp -> build/lib.macosx-10.9-x86_64-cpython-39/greenlet\n",
      "  \u001b[31m   \u001b[0m copying src/greenlet/greenlet_compiler_compat.hpp -> build/lib.macosx-10.9-x86_64-cpython-39/greenlet\n",
      "  \u001b[31m   \u001b[0m copying src/greenlet/greenlet_cpython_compat.hpp -> build/lib.macosx-10.9-x86_64-cpython-39/greenlet\n",
      "  \u001b[31m   \u001b[0m copying src/greenlet/greenlet_exceptions.hpp -> build/lib.macosx-10.9-x86_64-cpython-39/greenlet\n",
      "  \u001b[31m   \u001b[0m copying src/greenlet/greenlet_internal.hpp -> build/lib.macosx-10.9-x86_64-cpython-39/greenlet\n",
      "  \u001b[31m   \u001b[0m copying src/greenlet/greenlet_refs.hpp -> build/lib.macosx-10.9-x86_64-cpython-39/greenlet\n",
      "  \u001b[31m   \u001b[0m copying src/greenlet/greenlet_slp_switch.hpp -> build/lib.macosx-10.9-x86_64-cpython-39/greenlet\n",
      "  \u001b[31m   \u001b[0m copying src/greenlet/greenlet_thread_support.hpp -> build/lib.macosx-10.9-x86_64-cpython-39/greenlet\n",
      "  \u001b[31m   \u001b[0m copying src/greenlet/slp_platformselect.h -> build/lib.macosx-10.9-x86_64-cpython-39/greenlet\n",
      "  \u001b[31m   \u001b[0m copying src/greenlet/platform/setup_switch_x64_masm.cmd -> build/lib.macosx-10.9-x86_64-cpython-39/greenlet/platform\n",
      "  \u001b[31m   \u001b[0m copying src/greenlet/platform/switch_aarch64_gcc.h -> build/lib.macosx-10.9-x86_64-cpython-39/greenlet/platform\n",
      "  \u001b[31m   \u001b[0m copying src/greenlet/platform/switch_alpha_unix.h -> build/lib.macosx-10.9-x86_64-cpython-39/greenlet/platform\n",
      "  \u001b[31m   \u001b[0m copying src/greenlet/platform/switch_amd64_unix.h -> build/lib.macosx-10.9-x86_64-cpython-39/greenlet/platform\n",
      "  \u001b[31m   \u001b[0m copying src/greenlet/platform/switch_arm32_gcc.h -> build/lib.macosx-10.9-x86_64-cpython-39/greenlet/platform\n",
      "  \u001b[31m   \u001b[0m copying src/greenlet/platform/switch_arm32_ios.h -> build/lib.macosx-10.9-x86_64-cpython-39/greenlet/platform\n",
      "  \u001b[31m   \u001b[0m copying src/greenlet/platform/switch_arm64_masm.asm -> build/lib.macosx-10.9-x86_64-cpython-39/greenlet/platform\n",
      "  \u001b[31m   \u001b[0m copying src/greenlet/platform/switch_arm64_masm.obj -> build/lib.macosx-10.9-x86_64-cpython-39/greenlet/platform\n",
      "  \u001b[31m   \u001b[0m copying src/greenlet/platform/switch_arm64_msvc.h -> build/lib.macosx-10.9-x86_64-cpython-39/greenlet/platform\n",
      "  \u001b[31m   \u001b[0m copying src/greenlet/platform/switch_csky_gcc.h -> build/lib.macosx-10.9-x86_64-cpython-39/greenlet/platform\n",
      "  \u001b[31m   \u001b[0m copying src/greenlet/platform/switch_loongarch64_linux.h -> build/lib.macosx-10.9-x86_64-cpython-39/greenlet/platform\n",
      "  \u001b[31m   \u001b[0m copying src/greenlet/platform/switch_m68k_gcc.h -> build/lib.macosx-10.9-x86_64-cpython-39/greenlet/platform\n",
      "  \u001b[31m   \u001b[0m copying src/greenlet/platform/switch_mips_unix.h -> build/lib.macosx-10.9-x86_64-cpython-39/greenlet/platform\n",
      "  \u001b[31m   \u001b[0m copying src/greenlet/platform/switch_ppc64_aix.h -> build/lib.macosx-10.9-x86_64-cpython-39/greenlet/platform\n",
      "  \u001b[31m   \u001b[0m copying src/greenlet/platform/switch_ppc64_linux.h -> build/lib.macosx-10.9-x86_64-cpython-39/greenlet/platform\n",
      "  \u001b[31m   \u001b[0m copying src/greenlet/platform/switch_ppc_aix.h -> build/lib.macosx-10.9-x86_64-cpython-39/greenlet/platform\n",
      "  \u001b[31m   \u001b[0m copying src/greenlet/platform/switch_ppc_linux.h -> build/lib.macosx-10.9-x86_64-cpython-39/greenlet/platform\n",
      "  \u001b[31m   \u001b[0m copying src/greenlet/platform/switch_ppc_macosx.h -> build/lib.macosx-10.9-x86_64-cpython-39/greenlet/platform\n",
      "  \u001b[31m   \u001b[0m copying src/greenlet/platform/switch_ppc_unix.h -> build/lib.macosx-10.9-x86_64-cpython-39/greenlet/platform\n",
      "  \u001b[31m   \u001b[0m copying src/greenlet/platform/switch_riscv_unix.h -> build/lib.macosx-10.9-x86_64-cpython-39/greenlet/platform\n",
      "  \u001b[31m   \u001b[0m copying src/greenlet/platform/switch_s390_unix.h -> build/lib.macosx-10.9-x86_64-cpython-39/greenlet/platform\n",
      "  \u001b[31m   \u001b[0m copying src/greenlet/platform/switch_sh_gcc.h -> build/lib.macosx-10.9-x86_64-cpython-39/greenlet/platform\n",
      "  \u001b[31m   \u001b[0m copying src/greenlet/platform/switch_sparc_sun_gcc.h -> build/lib.macosx-10.9-x86_64-cpython-39/greenlet/platform\n",
      "  \u001b[31m   \u001b[0m copying src/greenlet/platform/switch_x32_unix.h -> build/lib.macosx-10.9-x86_64-cpython-39/greenlet/platform\n",
      "  \u001b[31m   \u001b[0m copying src/greenlet/platform/switch_x64_masm.asm -> build/lib.macosx-10.9-x86_64-cpython-39/greenlet/platform\n",
      "  \u001b[31m   \u001b[0m copying src/greenlet/platform/switch_x64_masm.obj -> build/lib.macosx-10.9-x86_64-cpython-39/greenlet/platform\n",
      "  \u001b[31m   \u001b[0m copying src/greenlet/platform/switch_x64_msvc.h -> build/lib.macosx-10.9-x86_64-cpython-39/greenlet/platform\n",
      "  \u001b[31m   \u001b[0m copying src/greenlet/platform/switch_x86_msvc.h -> build/lib.macosx-10.9-x86_64-cpython-39/greenlet/platform\n",
      "  \u001b[31m   \u001b[0m copying src/greenlet/platform/switch_x86_unix.h -> build/lib.macosx-10.9-x86_64-cpython-39/greenlet/platform\n",
      "  \u001b[31m   \u001b[0m copying src/greenlet/tests/_test_extension.c -> build/lib.macosx-10.9-x86_64-cpython-39/greenlet/tests\n",
      "  \u001b[31m   \u001b[0m copying src/greenlet/tests/_test_extension_cpp.cpp -> build/lib.macosx-10.9-x86_64-cpython-39/greenlet/tests\n",
      "  \u001b[31m   \u001b[0m running build_ext\n",
      "  \u001b[31m   \u001b[0m building 'greenlet._greenlet' extension\n",
      "  \u001b[31m   \u001b[0m creating build/temp.macosx-10.9-x86_64-cpython-39/src/greenlet\n",
      "  \u001b[31m   \u001b[0m clang++ -Wno-unused-result -Wsign-compare -Wunreachable-code -DNDEBUG -fwrapv -O2 -Wall -fPIC -O2 -isystem /Users/gaurav/opt/anaconda3/include -arch x86_64 -I/Users/gaurav/opt/anaconda3/include -fPIC -O2 -isystem /Users/gaurav/opt/anaconda3/include -arch x86_64 -I/Users/gaurav/Documents/IBM-Applied-Data-Science-Capstone/spacex-env/include -I/Users/gaurav/opt/anaconda3/include/python3.9 -c src/greenlet/greenlet.cpp -o build/temp.macosx-10.9-x86_64-cpython-39/src/greenlet/greenlet.o --std=c++11\n",
      "  \u001b[31m   \u001b[0m src/greenlet/greenlet.cpp:9:10: fatal error: 'cstdlib' file not found\n",
      "  \u001b[31m   \u001b[0m     9 | #include <cstdlib>\n",
      "  \u001b[31m   \u001b[0m       |          ^~~~~~~~~\n",
      "  \u001b[31m   \u001b[0m 1 error generated.\n",
      "  \u001b[31m   \u001b[0m error: command '/usr/bin/clang++' failed with exit code 1\n",
      "  \u001b[31m   \u001b[0m \u001b[31m[end of output]\u001b[0m\n",
      "  \n",
      "  \u001b[1;35mnote\u001b[0m: This error originates from a subprocess, and is likely not a problem with pip.\n",
      "\u001b[31m  ERROR: Failed building wheel for greenlet\u001b[0m\u001b[31m\n",
      "\u001b[0m\u001b[?25hFailed to build greenlet\n",
      "\u001b[31mERROR: Could not build wheels for greenlet, which is required to install pyproject.toml-based projects\u001b[0m\u001b[31m\n",
      "\u001b[0m\n",
      "\u001b[1m[\u001b[0m\u001b[34;49mnotice\u001b[0m\u001b[1;39;49m]\u001b[0m\u001b[39;49m A new release of pip is available: \u001b[0m\u001b[31;49m23.0.1\u001b[0m\u001b[39;49m -> \u001b[0m\u001b[32;49m25.0.1\u001b[0m\n",
      "\u001b[1m[\u001b[0m\u001b[34;49mnotice\u001b[0m\u001b[1;39;49m]\u001b[0m\u001b[39;49m To update, run: \u001b[0m\u001b[32;49mpip install --upgrade pip\u001b[0m\n"
     ]
    },
    {
     "name": "stdout",
     "output_type": "stream",
     "text": [
      "\u001b[0m\r\n",
      "\u001b[1m[\u001b[0m\u001b[34;49mnotice\u001b[0m\u001b[1;39;49m]\u001b[0m\u001b[39;49m A new release of pip is available: \u001b[0m\u001b[31;49m23.0.1\u001b[0m\u001b[39;49m -> \u001b[0m\u001b[32;49m25.0.1\u001b[0m\r\n",
      "\u001b[1m[\u001b[0m\u001b[34;49mnotice\u001b[0m\u001b[1;39;49m]\u001b[0m\u001b[39;49m To update, run: \u001b[0m\u001b[32;49mpip install --upgrade pip\u001b[0m\r\n"
     ]
    }
   ],
   "source": [
    "!pip install sqlalchemy==1.3.9\n",
    "!pip install ibm_db_sa\n",
    "!pip install ipython-sql"
   ]
  },
  {
   "cell_type": "markdown",
   "metadata": {},
   "source": [
    "### Connect to the database\n",
    "\n",
    "Let us first load the SQL extension and establish a connection with the database\n"
   ]
  },
  {
   "cell_type": "code",
   "execution_count": 2,
   "metadata": {},
   "outputs": [
    {
     "ename": "ModuleNotFoundError",
     "evalue": "No module named 'sql'",
     "output_type": "error",
     "traceback": [
      "\u001b[0;31m---------------------------------------------------------------------------\u001b[0m",
      "\u001b[0;31mModuleNotFoundError\u001b[0m                       Traceback (most recent call last)",
      "Cell \u001b[0;32mIn[2], line 1\u001b[0m\n\u001b[0;32m----> 1\u001b[0m \u001b[43mget_ipython\u001b[49m\u001b[43m(\u001b[49m\u001b[43m)\u001b[49m\u001b[38;5;241;43m.\u001b[39;49m\u001b[43mrun_line_magic\u001b[49m\u001b[43m(\u001b[49m\u001b[38;5;124;43m'\u001b[39;49m\u001b[38;5;124;43mload_ext\u001b[39;49m\u001b[38;5;124;43m'\u001b[39;49m\u001b[43m,\u001b[49m\u001b[43m \u001b[49m\u001b[38;5;124;43m'\u001b[39;49m\u001b[38;5;124;43msql\u001b[39;49m\u001b[38;5;124;43m'\u001b[39;49m\u001b[43m)\u001b[49m\n",
      "File \u001b[0;32m~/Documents/IBM-Applied-Data-Science-Capstone/spacex-env/lib/python3.9/site-packages/IPython/core/interactiveshell.py:2456\u001b[0m, in \u001b[0;36mInteractiveShell.run_line_magic\u001b[0;34m(self, magic_name, line, _stack_depth)\u001b[0m\n\u001b[1;32m   2454\u001b[0m     kwargs[\u001b[38;5;124m'\u001b[39m\u001b[38;5;124mlocal_ns\u001b[39m\u001b[38;5;124m'\u001b[39m] \u001b[38;5;241m=\u001b[39m \u001b[38;5;28mself\u001b[39m\u001b[38;5;241m.\u001b[39mget_local_scope(stack_depth)\n\u001b[1;32m   2455\u001b[0m \u001b[38;5;28;01mwith\u001b[39;00m \u001b[38;5;28mself\u001b[39m\u001b[38;5;241m.\u001b[39mbuiltin_trap:\n\u001b[0;32m-> 2456\u001b[0m     result \u001b[38;5;241m=\u001b[39m \u001b[43mfn\u001b[49m\u001b[43m(\u001b[49m\u001b[38;5;241;43m*\u001b[39;49m\u001b[43margs\u001b[49m\u001b[43m,\u001b[49m\u001b[43m \u001b[49m\u001b[38;5;241;43m*\u001b[39;49m\u001b[38;5;241;43m*\u001b[39;49m\u001b[43mkwargs\u001b[49m\u001b[43m)\u001b[49m\n\u001b[1;32m   2458\u001b[0m \u001b[38;5;66;03m# The code below prevents the output from being displayed\u001b[39;00m\n\u001b[1;32m   2459\u001b[0m \u001b[38;5;66;03m# when using magics with decorator @output_can_be_silenced\u001b[39;00m\n\u001b[1;32m   2460\u001b[0m \u001b[38;5;66;03m# when the last Python token in the expression is a ';'.\u001b[39;00m\n\u001b[1;32m   2461\u001b[0m \u001b[38;5;28;01mif\u001b[39;00m \u001b[38;5;28mgetattr\u001b[39m(fn, magic\u001b[38;5;241m.\u001b[39mMAGIC_OUTPUT_CAN_BE_SILENCED, \u001b[38;5;28;01mFalse\u001b[39;00m):\n",
      "File \u001b[0;32m~/Documents/IBM-Applied-Data-Science-Capstone/spacex-env/lib/python3.9/site-packages/IPython/core/magics/extension.py:33\u001b[0m, in \u001b[0;36mExtensionMagics.load_ext\u001b[0;34m(self, module_str)\u001b[0m\n\u001b[1;32m     31\u001b[0m \u001b[38;5;28;01mif\u001b[39;00m \u001b[38;5;129;01mnot\u001b[39;00m module_str:\n\u001b[1;32m     32\u001b[0m     \u001b[38;5;28;01mraise\u001b[39;00m UsageError(\u001b[38;5;124m'\u001b[39m\u001b[38;5;124mMissing module name.\u001b[39m\u001b[38;5;124m'\u001b[39m)\n\u001b[0;32m---> 33\u001b[0m res \u001b[38;5;241m=\u001b[39m \u001b[38;5;28;43mself\u001b[39;49m\u001b[38;5;241;43m.\u001b[39;49m\u001b[43mshell\u001b[49m\u001b[38;5;241;43m.\u001b[39;49m\u001b[43mextension_manager\u001b[49m\u001b[38;5;241;43m.\u001b[39;49m\u001b[43mload_extension\u001b[49m\u001b[43m(\u001b[49m\u001b[43mmodule_str\u001b[49m\u001b[43m)\u001b[49m\n\u001b[1;32m     35\u001b[0m \u001b[38;5;28;01mif\u001b[39;00m res \u001b[38;5;241m==\u001b[39m \u001b[38;5;124m'\u001b[39m\u001b[38;5;124malready loaded\u001b[39m\u001b[38;5;124m'\u001b[39m:\n\u001b[1;32m     36\u001b[0m     \u001b[38;5;28mprint\u001b[39m(\u001b[38;5;124m\"\u001b[39m\u001b[38;5;124mThe \u001b[39m\u001b[38;5;132;01m%s\u001b[39;00m\u001b[38;5;124m extension is already loaded. To reload it, use:\u001b[39m\u001b[38;5;124m\"\u001b[39m \u001b[38;5;241m%\u001b[39m module_str)\n",
      "File \u001b[0;32m~/Documents/IBM-Applied-Data-Science-Capstone/spacex-env/lib/python3.9/site-packages/IPython/core/extensions.py:76\u001b[0m, in \u001b[0;36mExtensionManager.load_extension\u001b[0;34m(self, module_str)\u001b[0m\n\u001b[1;32m     69\u001b[0m \u001b[38;5;250m\u001b[39m\u001b[38;5;124;03m\"\"\"Load an IPython extension by its module name.\u001b[39;00m\n\u001b[1;32m     70\u001b[0m \n\u001b[1;32m     71\u001b[0m \u001b[38;5;124;03mReturns the string \"already loaded\" if the extension is already loaded,\u001b[39;00m\n\u001b[1;32m     72\u001b[0m \u001b[38;5;124;03m\"no load function\" if the module doesn't have a load_ipython_extension\u001b[39;00m\n\u001b[1;32m     73\u001b[0m \u001b[38;5;124;03mfunction, or None if it succeeded.\u001b[39;00m\n\u001b[1;32m     74\u001b[0m \u001b[38;5;124;03m\"\"\"\u001b[39;00m\n\u001b[1;32m     75\u001b[0m \u001b[38;5;28;01mtry\u001b[39;00m:\n\u001b[0;32m---> 76\u001b[0m     \u001b[38;5;28;01mreturn\u001b[39;00m \u001b[38;5;28;43mself\u001b[39;49m\u001b[38;5;241;43m.\u001b[39;49m\u001b[43m_load_extension\u001b[49m\u001b[43m(\u001b[49m\u001b[43mmodule_str\u001b[49m\u001b[43m)\u001b[49m\n\u001b[1;32m     77\u001b[0m \u001b[38;5;28;01mexcept\u001b[39;00m \u001b[38;5;167;01mModuleNotFoundError\u001b[39;00m:\n\u001b[1;32m     78\u001b[0m     \u001b[38;5;28;01mif\u001b[39;00m module_str \u001b[38;5;129;01min\u001b[39;00m BUILTINS_EXTS:\n",
      "File \u001b[0;32m~/Documents/IBM-Applied-Data-Science-Capstone/spacex-env/lib/python3.9/site-packages/IPython/core/extensions.py:91\u001b[0m, in \u001b[0;36mExtensionManager._load_extension\u001b[0;34m(self, module_str)\u001b[0m\n\u001b[1;32m     89\u001b[0m \u001b[38;5;28;01mwith\u001b[39;00m \u001b[38;5;28mself\u001b[39m\u001b[38;5;241m.\u001b[39mshell\u001b[38;5;241m.\u001b[39mbuiltin_trap:\n\u001b[1;32m     90\u001b[0m     \u001b[38;5;28;01mif\u001b[39;00m module_str \u001b[38;5;129;01mnot\u001b[39;00m \u001b[38;5;129;01min\u001b[39;00m sys\u001b[38;5;241m.\u001b[39mmodules:\n\u001b[0;32m---> 91\u001b[0m         mod \u001b[38;5;241m=\u001b[39m \u001b[43mimport_module\u001b[49m\u001b[43m(\u001b[49m\u001b[43mmodule_str\u001b[49m\u001b[43m)\u001b[49m\n\u001b[1;32m     92\u001b[0m     mod \u001b[38;5;241m=\u001b[39m sys\u001b[38;5;241m.\u001b[39mmodules[module_str]\n\u001b[1;32m     93\u001b[0m     \u001b[38;5;28;01mif\u001b[39;00m \u001b[38;5;28mself\u001b[39m\u001b[38;5;241m.\u001b[39m_call_load_ipython_extension(mod):\n",
      "File \u001b[0;32m~/opt/anaconda3/lib/python3.9/importlib/__init__.py:127\u001b[0m, in \u001b[0;36mimport_module\u001b[0;34m(name, package)\u001b[0m\n\u001b[1;32m    125\u001b[0m             \u001b[38;5;28;01mbreak\u001b[39;00m\n\u001b[1;32m    126\u001b[0m         level \u001b[38;5;241m+\u001b[39m\u001b[38;5;241m=\u001b[39m \u001b[38;5;241m1\u001b[39m\n\u001b[0;32m--> 127\u001b[0m \u001b[38;5;28;01mreturn\u001b[39;00m \u001b[43m_bootstrap\u001b[49m\u001b[38;5;241;43m.\u001b[39;49m\u001b[43m_gcd_import\u001b[49m\u001b[43m(\u001b[49m\u001b[43mname\u001b[49m\u001b[43m[\u001b[49m\u001b[43mlevel\u001b[49m\u001b[43m:\u001b[49m\u001b[43m]\u001b[49m\u001b[43m,\u001b[49m\u001b[43m \u001b[49m\u001b[43mpackage\u001b[49m\u001b[43m,\u001b[49m\u001b[43m \u001b[49m\u001b[43mlevel\u001b[49m\u001b[43m)\u001b[49m\n",
      "File \u001b[0;32m<frozen importlib._bootstrap>:1030\u001b[0m, in \u001b[0;36m_gcd_import\u001b[0;34m(name, package, level)\u001b[0m\n",
      "File \u001b[0;32m<frozen importlib._bootstrap>:1007\u001b[0m, in \u001b[0;36m_find_and_load\u001b[0;34m(name, import_)\u001b[0m\n",
      "File \u001b[0;32m<frozen importlib._bootstrap>:984\u001b[0m, in \u001b[0;36m_find_and_load_unlocked\u001b[0;34m(name, import_)\u001b[0m\n",
      "\u001b[0;31mModuleNotFoundError\u001b[0m: No module named 'sql'"
     ]
    }
   ],
   "source": [
    "%load_ext sql"
   ]
  },
  {
   "cell_type": "markdown",
   "metadata": {},
   "source": [
    "**DB2 magic in case of old UI service credentials.**\n",
    "\n",
    "In the next cell enter your db2 connection string. Recall you created Service Credentials for your Db2 instance before. From the **uri** field of your Db2 service credentials copy everything after db2:// (except the double quote at the end) and paste it in the cell below after ibm_db_sa://\n",
    "\n",
    "<img src =\"https://cf-courses-data.s3.us.cloud-object-storage.appdomain.cloud/IBMDeveloperSkillsNetwork-DB0201EN-SkillsNetwork/labs/FinalModule_edX/images/URI.jpg\">\n",
    "\n",
    "in the following format\n",
    "\n",
    "**%sql ibm_db_sa://my-username:my-password\\@my-hostname:my-port/my-db-name**\n",
    "\n",
    "**DB2 magic in case of new UI service credentials.**\n",
    "\n",
    "<img src =\"https://cf-courses-data.s3.us.cloud-object-storage.appdomain.cloud/IBM-DS0321EN-SkillsNetwork/labs/module_2/images/servicecredentials.png\" width=600>  \n",
    "\n",
    "*   Use the following format.\n",
    "\n",
    "*   Add security=SSL at the end\n",
    "\n",
    "**%sql ibm_db_sa://my-username:my-password\\@my-hostname:my-port/my-db-name?security=SSL**\n"
   ]
  },
  {
   "cell_type": "code",
   "execution_count": null,
   "metadata": {},
   "outputs": [],
   "source": [
    "%sql ibm_db_sa://wzf08322:ueXYepcYNnElQRV6@0c77d6f2-5da9-48a9-81f8-86b520b87518.bs2io90l08kqb1od8lcg.databases.appdomain.cloud:31198/bludb?security=SSL"
   ]
  },
  {
   "cell_type": "markdown",
   "metadata": {},
   "source": [
    "## Tasks\n",
    "\n",
    "Now write and execute SQL queries to solve the assignment tasks.\n",
    "\n",
    "### Task 1\n",
    "\n",
    "##### Display the names of the unique launch sites  in the space mission\n"
   ]
  },
  {
   "cell_type": "code",
   "execution_count": null,
   "metadata": {},
   "outputs": [],
   "source": [
    "%sql select distinct launch_site from SPACEXDATASET;"
   ]
  },
  {
   "cell_type": "markdown",
   "metadata": {},
   "source": [
    "### Task 2\n",
    "\n",
    "##### Display 5 records where launch sites begin with the string 'CCA'\n"
   ]
  },
  {
   "cell_type": "code",
   "execution_count": null,
   "metadata": {},
   "outputs": [],
   "source": [
    "%sql select * from SPACEXDATASET where launch_site like 'CCA%' limit 5;"
   ]
  },
  {
   "cell_type": "markdown",
   "metadata": {},
   "source": [
    "### Task 3\n",
    "\n",
    "##### Display the total payload mass carried by boosters launched by NASA (CRS)\n"
   ]
  },
  {
   "cell_type": "code",
   "execution_count": null,
   "metadata": {},
   "outputs": [],
   "source": [
    "%sql select sum(payload_mass__kg_) as total_payload_mass from SPACEXDATASET where customer = 'NASA (CRS)';"
   ]
  },
  {
   "cell_type": "markdown",
   "metadata": {},
   "source": [
    "### Task 4\n",
    "\n",
    "##### Display average payload mass carried by booster version F9 v1.1\n"
   ]
  },
  {
   "cell_type": "code",
   "execution_count": null,
   "metadata": {},
   "outputs": [],
   "source": [
    "%sql select avg(payload_mass__kg_) as average_payload_mass from SPACEXDATASET where booster_version like '%F9 v1.1%';"
   ]
  },
  {
   "cell_type": "markdown",
   "metadata": {},
   "source": [
    "### Task 5\n",
    "\n",
    "##### List the date when the first succesful landing outcome in ground pad was acheived.\n",
    "\n",
    "*Hint:Use min function*\n"
   ]
  },
  {
   "cell_type": "code",
   "execution_count": null,
   "metadata": {},
   "outputs": [],
   "source": [
    "%sql select min(date) as first_successful_landing from SPACEXDATASET where landing__outcome = 'Success (ground pad)';"
   ]
  },
  {
   "cell_type": "markdown",
   "metadata": {},
   "source": [
    "### Task 6\n",
    "\n",
    "##### List the names of the boosters which have success in drone ship and have payload mass greater than 4000 but less than 6000\n"
   ]
  },
  {
   "cell_type": "code",
   "execution_count": null,
   "metadata": {},
   "outputs": [],
   "source": [
    "%sql select booster_version from SPACEXDATASET where landing__outcome = 'Success (drone ship)' and payload_mass__kg_ between 4000 and 6000;"
   ]
  },
  {
   "cell_type": "markdown",
   "metadata": {},
   "source": [
    "### Task 7\n",
    "\n",
    "##### List the total number of successful and failure mission outcomes\n"
   ]
  },
  {
   "cell_type": "code",
   "execution_count": null,
   "metadata": {},
   "outputs": [],
   "source": [
    "%sql select mission_outcome, count(*) as total_number from SPACEXDATASET group by mission_outcome;"
   ]
  },
  {
   "cell_type": "markdown",
   "metadata": {},
   "source": [
    "### Task 8\n",
    "\n",
    "##### List the   names of the booster_versions which have carried the maximum payload mass. Use a subquery\n"
   ]
  },
  {
   "cell_type": "code",
   "execution_count": null,
   "metadata": {},
   "outputs": [],
   "source": [
    "%sql select booster_version from SPACEXDATASET where payload_mass__kg_ = (select max(payload_mass__kg_) from SPACEXDATASET);"
   ]
  },
  {
   "cell_type": "markdown",
   "metadata": {},
   "source": [
    "### Task 9\n",
    "\n",
    "##### List the failed landing_outcomes in drone ship, their booster versions, and launch site names for the in year 2015\n"
   ]
  },
  {
   "cell_type": "code",
   "execution_count": null,
   "metadata": {},
   "outputs": [],
   "source": [
    "%%sql select monthname(date) as month, date, booster_version, launch_site, landing__outcome from SPACEXDATASET\n",
    "      where landing__outcome = 'Failure (drone ship)' and year(date)=2015;"
   ]
  },
  {
   "cell_type": "markdown",
   "metadata": {},
   "source": [
    "### Task 10\n",
    "\n",
    "##### Rank the count of landing outcomes (such as Failure (drone ship) or Success (ground pad)) between the date 2010-06-04 and 2017-03-20, in descending order\n"
   ]
  },
  {
   "cell_type": "code",
   "execution_count": null,
   "metadata": {},
   "outputs": [],
   "source": [
    "%%sql select landing__outcome, count(*) as count_outcomes from SPACEXDATASET\n",
    "      where date between '2010-06-04' and '2017-03-20'\n",
    "      group by landing__outcome\n",
    "      order by count_outcomes desc;"
   ]
  },
  {
   "cell_type": "markdown",
   "metadata": {},
   "source": [
    "### Reference Links\n",
    "\n",
    "*   <a href =\"https://cf-courses-data.s3.us.cloud-object-storage.appdomain.cloud/IBMDeveloperSkillsNetwork-DB0201EN-SkillsNetwork/labs/Labs_Coursera_V5/labs/Lab%20-%20String%20Patterns%20-%20Sorting%20-%20Grouping/instructional-labs.md.html?utm_medium=Exinfluencer&utm_source=Exinfluencer&utm_content=000026UJ&utm_term=10006555&utm_id=NA-SkillsNetwork-Channel-SkillsNetworkCoursesIBMDS0321ENSkillsNetwork26802033-2021-01-01&origin=www.coursera.org\">Hands-on Lab : String Patterns, Sorting and Grouping</a>\n",
    "\n",
    "*   <a  href=\"https://cf-courses-data.s3.us.cloud-object-storage.appdomain.cloud/IBMDeveloperSkillsNetwork-DB0201EN-SkillsNetwork/labs/Labs_Coursera_V5/labs/Lab%20-%20Built-in%20functions%20/Hands-on_Lab__Built-in_Functions.md.html?utm_medium=Exinfluencer&utm_source=Exinfluencer&utm_content=000026UJ&utm_term=10006555&utm_id=NA-SkillsNetwork-Channel-SkillsNetworkCoursesIBMDS0321ENSkillsNetwork26802033-2021-01-01&origin=www.coursera.org\">Hands-on Lab: Built-in functions</a>\n",
    "\n",
    "*   <a  href=\"https://cf-courses-data.s3.us.cloud-object-storage.appdomain.cloud/IBMDeveloperSkillsNetwork-DB0201EN-SkillsNetwork/labs/Labs_Coursera_V5/labs/Lab%20-%20Sub-queries%20and%20Nested%20SELECTs%20/instructional-labs.md.html?utm_medium=Exinfluencer&utm_source=Exinfluencer&utm_content=000026UJ&utm_term=10006555&utm_id=NA-SkillsNetwork-Channel-SkillsNetworkCoursesIBMDS0321ENSkillsNetwork26802033-2021-01-01&origin=www.coursera.org\">Hands-on Lab : Sub-queries and Nested SELECT Statements</a>\n",
    "\n",
    "*   <a href=\"https://cf-courses-data.s3.us.cloud-object-storage.appdomain.cloud/IBMDeveloperSkillsNetwork-DB0201EN-SkillsNetwork/labs/Module%205/DB0201EN-Week3-1-3-SQLmagic.ipynb?utm_medium=Exinfluencer&utm_source=Exinfluencer&utm_content=000026UJ&utm_term=10006555&utm_id=NA-SkillsNetwork-Channel-SkillsNetworkCoursesIBMDS0321ENSkillsNetwork26802033-2021-01-01\">Hands-on Tutorial: Accessing Databases with SQL magic</a>\n",
    "\n",
    "*   <a href= \"https://cf-courses-data.s3.us.cloud-object-storage.appdomain.cloud/IBMDeveloperSkillsNetwork-DB0201EN-SkillsNetwork/labs/Module%205/DB0201EN-Week3-1-4-Analyzing.ipynb?utm_medium=Exinfluencer&utm_source=Exinfluencer&utm_content=000026UJ&utm_term=10006555&utm_id=NA-SkillsNetwork-Channel-SkillsNetworkCoursesIBMDS0321ENSkillsNetwork26802033-2021-01-01\">Hands-on Lab: Analyzing a real World Data Set</a>\n"
   ]
  },
  {
   "cell_type": "markdown",
   "metadata": {},
   "source": [
    "## Author(s)\n",
    "\n",
    "<h4> Lakshmi Holla </h4>\n"
   ]
  },
  {
   "cell_type": "markdown",
   "metadata": {},
   "source": [
    "## Other Contributors\n",
    "\n",
    "<h4> Rav Ahuja </h4>\n"
   ]
  },
  {
   "cell_type": "markdown",
   "metadata": {},
   "source": [
    "## Change log\n",
    "\n",
    "| Date       | Version | Changed by    | Change Description        |\n",
    "| ---------- | ------- | ------------- | ------------------------- |\n",
    "| 2021-07-09 | 0.2     | Lakshmi Holla | Changes made in magic sql |\n",
    "| 2021-05-20 | 0.1     | Lakshmi Holla | Created Initial Version   |\n"
   ]
  },
  {
   "cell_type": "markdown",
   "metadata": {},
   "source": [
    "## <h3 align=\"center\"> © IBM Corporation 2021. All rights reserved. <h3/>\n"
   ]
  }
 ],
 "metadata": {
  "kernelspec": {
   "display_name": "Python 3 (ipykernel)",
   "language": "python",
   "name": "python3"
  },
  "language_info": {
   "codemirror_mode": {
    "name": "ipython",
    "version": 3
   },
   "file_extension": ".py",
   "mimetype": "text/x-python",
   "name": "python",
   "nbconvert_exporter": "python",
   "pygments_lexer": "ipython3",
   "version": "3.9.18"
  }
 },
 "nbformat": 4,
 "nbformat_minor": 4
}
